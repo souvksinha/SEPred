{
 "cells": [
  {
   "cell_type": "code",
   "execution_count": 1,
   "id": "54d94c62",
   "metadata": {},
   "outputs": [],
   "source": [
    "import pandas as pd\n",
    "pd.set_option('display.max_colwidth', None)"
   ]
  },
  {
   "cell_type": "code",
   "execution_count": 98,
   "id": "defdb5db",
   "metadata": {},
   "outputs": [],
   "source": [
    "# df = pd.read_pickle(\"ontology_vectors.pickle\")\n",
    "# # df = pd.read_csv(\"SIDER_PTs.csv\")\n",
    "# # df_1 = pd.DataFrame(df)\n",
    "# # print(df)\n",
    "# keysList = list(df.keys())\n",
    "# print(keysList)\n",
    "# print(df.get('ontology_vectors').shape)\n",
    "# print(len(df.get('exist_names')))\n",
    "# print(len(df.get('adr_ids')))\n",
    "# print(df.get('adr_ids'))"
   ]
  },
  {
   "cell_type": "code",
   "execution_count": null,
   "id": "02ec1a91",
   "metadata": {},
   "outputs": [],
   "source": [
    "data=pd.read_csv('ADR_ontology.csv',  encoding='unicode_escape')\n",
    "# print(data)"
   ]
  },
  {
   "cell_type": "code",
   "execution_count": null,
   "id": "8eb7f5ed",
   "metadata": {},
   "outputs": [],
   "source": [
    "print(list(data.columns.values))"
   ]
  },
  {
   "cell_type": "code",
   "execution_count": null,
   "id": "1e118164",
   "metadata": {},
   "outputs": [],
   "source": [
    "data[['ADRECS_ID1','ADRECS_ID2', 'ADRECS_ID3', 'ADRECS_ID4']] = data['ADRECS_ID'].str.split('.',expand=True)\n",
    "# print(data[['ADRECS_ID1','ADRECS_ID2', 'ADRECS_ID3', 'ADRECS_ID4']])\n"
   ]
  },
  {
   "cell_type": "markdown",
   "id": "df9dbe5a",
   "metadata": {},
   "source": [
    "## Read ADR_ontology and group the side effects and save as a coarse dataset"
   ]
  },
  {
   "cell_type": "code",
   "execution_count": null,
   "id": "d72b05ab",
   "metadata": {},
   "outputs": [],
   "source": [
    "# repeat the value of row x of column a1 in row y of column a1, based on the condition that row x and row y of column a2 are equal\n",
    "# So here we're keeping the ADR TERM only until tree 2 of 4 tree hiararchy\n",
    "for index, row in data.iterrows():\n",
    "    if index > 0 and row['ADRECS_ID1'] == data.at[index - 1, 'ADRECS_ID1']:\n",
    "           \n",
    "#     if index > 0 and row['ADRECS_ID1'] == data.at[index - 1, 'ADRECS_ID1'] \\\n",
    "#     and row['ADRECS_ID2'] == data.at[index - 1, 'ADRECS_ID2']:\n",
    "        \n",
    "        data.at[index, 'ADR_TERM'] = data.at[index - 1, 'ADR_TERM']\n",
    "# print(data[['ADR_TERM']][:50])"
   ]
  },
  {
   "cell_type": "code",
   "execution_count": null,
   "id": "9522bd5b",
   "metadata": {},
   "outputs": [],
   "source": [
    "data.drop(['ADRECS_ID1','ADRECS_ID2', 'ADRECS_ID3', 'ADRECS_ID4'], axis=1, inplace=True)\n",
    "data.to_csv('ADR_ontology_coarse_v2.tsv', sep='\\t')"
   ]
  },
  {
   "cell_type": "markdown",
   "id": "d30c8adc",
   "metadata": {},
   "source": [
    "## Now assign every side effect from the Sider database to a ADReCS side-effect group"
   ]
  },
  {
   "cell_type": "code",
   "execution_count": 180,
   "id": "708d4cd1",
   "metadata": {},
   "outputs": [
    {
     "name": "stdout",
     "output_type": "stream",
     "text": [
      "['Unnamed: 0', 'ADRECS_ID', 'ADR_ID', 'ADR_TERM', 'ADR_SYNONYMS', 'MEDDRA_CODE']\n"
     ]
    }
   ],
   "source": [
    "data_group=pd.read_csv('ADR_ontology_coarse_v3.csv',  encoding='unicode_escape')\n",
    "print(list(data_group.columns.values))"
   ]
  },
  {
   "cell_type": "code",
   "execution_count": 181,
   "id": "5e278842",
   "metadata": {},
   "outputs": [
    {
     "name": "stdout",
     "output_type": "stream",
     "text": [
      "         STITCH_FLAT STITCH_STEREO  UMLS_id1 MedDRA_type  UMLS_id2  \\\n",
      "0       CID100000085  CID000010917  C0000729         LLT  C0000729   \n",
      "1       CID100000085  CID000010917  C0000729          PT  C0000737   \n",
      "2       CID100000085  CID000010917  C0000737         LLT  C0000737   \n",
      "3       CID100000085  CID000010917  C0000737          PT  C0687713   \n",
      "4       CID100000085  CID000010917  C0000737          PT  C0000737   \n",
      "...              ...           ...       ...         ...       ...   \n",
      "309844  CID171306834  CID071306834  C3203358          PT  C1145670   \n",
      "309845  CID171306834  CID071306834  C3665386         LLT  C3665386   \n",
      "309846  CID171306834  CID071306834  C3665386          PT  C3665347   \n",
      "309847  CID171306834  CID071306834  C3665596         LLT  C3665596   \n",
      "309848  CID171306834  CID071306834  C3665596          PT  C0347390   \n",
      "\n",
      "                     ADR_name  \n",
      "0            Abdominal cramps  \n",
      "1              Abdominal pain  \n",
      "2              Abdominal pain  \n",
      "3       Gastrointestinal pain  \n",
      "4              Abdominal pain  \n",
      "...                       ...  \n",
      "309844    Respiratory failure  \n",
      "309845        Abnormal vision  \n",
      "309846      Visual impairment  \n",
      "309847                  Warts  \n",
      "309848         Skin papilloma  \n",
      "\n",
      "[309849 rows x 6 columns]\n"
     ]
    }
   ],
   "source": [
    "# data_se=pd.read_csv('meddra_all_se.tsv', sep='\\t', encoding='unicode_escape', names=['STITCH_FLAT', 'STITCH_STEREO', 'UMLS_id1', 'MedDRA_type', 'UMLS_id2', 'ADR_name'])\n",
    "data_se=pd.read_csv('meddra_all_se_v1.csv', encoding='unicode_escape', names=['STITCH_FLAT', 'STITCH_STEREO', 'UMLS_id1', 'MedDRA_type', 'UMLS_id2', 'ADR_name'])\n",
    "print(data_se)\n",
    "# adr_names = label_df.columns.values"
   ]
  },
  {
   "cell_type": "code",
   "execution_count": 182,
   "id": "d643f32d",
   "metadata": {},
   "outputs": [
    {
     "name": "stdout",
     "output_type": "stream",
     "text": [
      "0              Abdominal cramps\n",
      "1                Abdominal pain\n",
      "2                Abdominal pain\n",
      "3         Gastrointestinal pain\n",
      "4                Abdominal pain\n",
      "                  ...          \n",
      "309844      Respiratory failure\n",
      "309845          Abnormal vision\n",
      "309846        Visual impairment\n",
      "309847                    Warts\n",
      "309848           Skin papilloma\n",
      "Name: ADR_name, Length: 309849, dtype: object\n",
      "6123\n"
     ]
    }
   ],
   "source": [
    "adr_query = data_se.get('ADR_name')\n",
    "print(adr_query)\n",
    "print(len(set(adr_query)))"
   ]
  },
  {
   "cell_type": "code",
   "execution_count": 183,
   "id": "7fb7edeb",
   "metadata": {},
   "outputs": [
    {
     "name": "stdout",
     "output_type": "stream",
     "text": [
      "['Blood and lymphatic system disorders', 'Cardiac disorders', 'Congenital, familial and genetic disorders', 'Ear and labyrinth disorders', 'Endocrine disorders', 'Eye disorders', 'Gastrointestinal disorders', 'General disorders and administration site conditions', 'Hepatobiliary disorders', 'Immune system disorders', 'Infections and infestations', 'Injury, poisoning and procedural complications', 'Investigations', 'Metabolism and nutrition disorders', 'Musculoskeletal and connective tissue disorders', 'Neoplasms benign, malignant and unspecified (incl cysts and polyps)', 'Nervous system disorders', 'Pregnancy, puerperium and perinatal conditions', 'Psychiatric disorders', 'Renal and urinary disorders', 'Reproductive system and breast disorders', 'Respiratory, thoracic and mediastinal disorders', 'Skin and subcutaneous tissue disorders', 'Vascular disorders', 'Surgical and medical procedures', 'Social circumstances', 'Product issues']\n"
     ]
    }
   ],
   "source": [
    "# A list containing SE group names\n",
    "group_list= data_group['ADR_TERM'].unique().tolist()\n",
    "print(group_list)"
   ]
  },
  {
   "cell_type": "code",
   "execution_count": 11,
   "id": "ebcd7bae",
   "metadata": {},
   "outputs": [
    {
     "name": "stderr",
     "output_type": "stream",
     "text": [
      "/var/folders/6n/3nqlb7m93wg2vxy4dg00ggzh0000gn/T/ipykernel_2368/3198524289.py:12: UserWarning: This pattern has match groups. To actually get the groups, use str.extract.\n",
      "  result = data_group[data_group['ADR_SYNONYMS'].str.contains(adr_name)]\n"
     ]
    }
   ],
   "source": [
    "'''\n",
    "Search for the ADR terms obtained from SIDER to ADReCS database \n",
    "and assign to the  27 ADR groups as described in the database and define as vectors.\n",
    "'''\n",
    "import numpy as np\n",
    "ont_vec = []\n",
    "count = 0\n",
    "for adr_name in adr_query:\n",
    "    count += 1\n",
    "    try:\n",
    "        adr_vec =  np.zeros(len(group_list))\n",
    "        result = data_group[data_group['ADR_SYNONYMS'].str.contains(adr_name)]\n",
    "    #     print(result.shape)\n",
    "    #     print(adr_name,':', result['ADR_TERM'].to_string(index=False))\n",
    "        for index, row in result.iterrows():\n",
    "    #         print(adr_name,':', row['ADR_TERM'])\n",
    "            index = group_list.index(row['ADR_TERM'])\n",
    "            adr_vec[index] = 1\n",
    "        ont_vec.append(adr_vec)\n",
    "    except:\n",
    "        print(\"An exception occurred\")\n",
    "        print(\"count: \", count, \" ADR: \", adr_name)\n",
    "\n",
    "# Converting the ont_vec (list of arrays) to no.array\n",
    "numpy_array = np.vstack(ont_vec)\n"
   ]
  },
  {
   "cell_type": "code",
   "execution_count": 18,
   "id": "59a1cbc2",
   "metadata": {},
   "outputs": [
    {
     "name": "stdout",
     "output_type": "stream",
     "text": [
      "        Blood and lymphatic system disorders  Cardiac disorders  \\\n",
      "0                                        0.0                0.0   \n",
      "1                                        0.0                0.0   \n",
      "2                                        0.0                0.0   \n",
      "3                                        0.0                0.0   \n",
      "4                                        0.0                0.0   \n",
      "...                                      ...                ...   \n",
      "309844                                   0.0                0.0   \n",
      "309845                                   0.0                0.0   \n",
      "309846                                   0.0                0.0   \n",
      "309847                                   0.0                0.0   \n",
      "309848                                   0.0                0.0   \n",
      "\n",
      "        Congenital, familial and genetic disorders  \\\n",
      "0                                              0.0   \n",
      "1                                              0.0   \n",
      "2                                              0.0   \n",
      "3                                              0.0   \n",
      "4                                              0.0   \n",
      "...                                            ...   \n",
      "309844                                         0.0   \n",
      "309845                                         0.0   \n",
      "309846                                         0.0   \n",
      "309847                                         0.0   \n",
      "309848                                         0.0   \n",
      "\n",
      "        Ear and labyrinth disorders  Endocrine disorders  Eye disorders  \\\n",
      "0                               0.0                  0.0            0.0   \n",
      "1                               0.0                  0.0            0.0   \n",
      "2                               0.0                  0.0            0.0   \n",
      "3                               0.0                  0.0            0.0   \n",
      "4                               0.0                  0.0            0.0   \n",
      "...                             ...                  ...            ...   \n",
      "309844                          0.0                  0.0            0.0   \n",
      "309845                          0.0                  0.0            1.0   \n",
      "309846                          0.0                  0.0            1.0   \n",
      "309847                          0.0                  0.0            0.0   \n",
      "309848                          0.0                  0.0            0.0   \n",
      "\n",
      "        Gastrointestinal disorders  \\\n",
      "0                              1.0   \n",
      "1                              1.0   \n",
      "2                              1.0   \n",
      "3                              1.0   \n",
      "4                              1.0   \n",
      "...                            ...   \n",
      "309844                         0.0   \n",
      "309845                         0.0   \n",
      "309846                         0.0   \n",
      "309847                         1.0   \n",
      "309848                         0.0   \n",
      "\n",
      "        General disorders and administration site conditions  \\\n",
      "0                                                     0.0      \n",
      "1                                                     0.0      \n",
      "2                                                     0.0      \n",
      "3                                                     0.0      \n",
      "4                                                     0.0      \n",
      "...                                                   ...      \n",
      "309844                                                0.0      \n",
      "309845                                                0.0      \n",
      "309846                                                0.0      \n",
      "309847                                                0.0      \n",
      "309848                                                0.0      \n",
      "\n",
      "        Hepatobiliary disorders  Immune system disorders  ...  \\\n",
      "0                           0.0                      0.0  ...   \n",
      "1                           0.0                      0.0  ...   \n",
      "2                           0.0                      0.0  ...   \n",
      "3                           0.0                      0.0  ...   \n",
      "4                           0.0                      0.0  ...   \n",
      "...                         ...                      ...  ...   \n",
      "309844                      0.0                      0.0  ...   \n",
      "309845                      0.0                      0.0  ...   \n",
      "309846                      0.0                      0.0  ...   \n",
      "309847                      0.0                      0.0  ...   \n",
      "309848                      0.0                      0.0  ...   \n",
      "\n",
      "        Pregnancy, puerperium and perinatal conditions  Psychiatric disorders  \\\n",
      "0                                                  0.0                    0.0   \n",
      "1                                                  0.0                    0.0   \n",
      "2                                                  0.0                    0.0   \n",
      "3                                                  0.0                    0.0   \n",
      "4                                                  0.0                    0.0   \n",
      "...                                                ...                    ...   \n",
      "309844                                             1.0                    0.0   \n",
      "309845                                             0.0                    0.0   \n",
      "309846                                             0.0                    0.0   \n",
      "309847                                             0.0                    0.0   \n",
      "309848                                             0.0                    0.0   \n",
      "\n",
      "        Renal and urinary disorders  Reproductive system and breast disorders  \\\n",
      "0                               0.0                                       0.0   \n",
      "1                               0.0                                       0.0   \n",
      "2                               0.0                                       0.0   \n",
      "3                               0.0                                       0.0   \n",
      "4                               0.0                                       0.0   \n",
      "...                             ...                                       ...   \n",
      "309844                          0.0                                       0.0   \n",
      "309845                          0.0                                       0.0   \n",
      "309846                          0.0                                       0.0   \n",
      "309847                          0.0                                       1.0   \n",
      "309848                          0.0                                       0.0   \n",
      "\n",
      "        Respiratory, thoracic and mediastinal disorders  \\\n",
      "0                                                   0.0   \n",
      "1                                                   0.0   \n",
      "2                                                   0.0   \n",
      "3                                                   0.0   \n",
      "4                                                   0.0   \n",
      "...                                                 ...   \n",
      "309844                                              1.0   \n",
      "309845                                              0.0   \n",
      "309846                                              0.0   \n",
      "309847                                              0.0   \n",
      "309848                                              0.0   \n",
      "\n",
      "        Skin and subcutaneous tissue disorders  Vascular disorders  \\\n",
      "0                                          0.0                 0.0   \n",
      "1                                          0.0                 0.0   \n",
      "2                                          0.0                 0.0   \n",
      "3                                          0.0                 0.0   \n",
      "4                                          0.0                 0.0   \n",
      "...                                        ...                 ...   \n",
      "309844                                     0.0                 0.0   \n",
      "309845                                     0.0                 0.0   \n",
      "309846                                     0.0                 0.0   \n",
      "309847                                     1.0                 0.0   \n",
      "309848                                     1.0                 0.0   \n",
      "\n",
      "        Surgical and medical procedures  Social circumstances  Product issues  \n",
      "0                                   0.0                   0.0             0.0  \n",
      "1                                   0.0                   0.0             0.0  \n",
      "2                                   0.0                   0.0             0.0  \n",
      "3                                   0.0                   0.0             0.0  \n",
      "4                                   0.0                   0.0             0.0  \n",
      "...                                 ...                   ...             ...  \n",
      "309844                              0.0                   0.0             0.0  \n",
      "309845                              0.0                   0.0             0.0  \n",
      "309846                              0.0                   0.0             0.0  \n",
      "309847                              0.0                   0.0             0.0  \n",
      "309848                              0.0                   0.0             0.0  \n",
      "\n",
      "[309849 rows x 27 columns]\n"
     ]
    }
   ],
   "source": [
    "# df = pd.DataFrame(numpy_array, index = adr_query, columns = group_list )\n",
    "df = pd.DataFrame(numpy_array, columns = group_list )\n",
    "print(df)\n",
    "df.drop(['Investigations','Social circumstances', 'Product issues', 'Surgical and medical procedures'], axis=1, inplace=True)"
   ]
  },
  {
   "cell_type": "code",
   "execution_count": 19,
   "id": "96580c11",
   "metadata": {},
   "outputs": [
    {
     "name": "stdout",
     "output_type": "stream",
     "text": [
      "         STITCH_FLAT STITCH_STEREO               ADR_name  \\\n",
      "0       CID100000085  CID000010917       Abdominal cramps   \n",
      "1       CID100000085  CID000010917         Abdominal pain   \n",
      "2       CID100000085  CID000010917         Abdominal pain   \n",
      "3       CID100000085  CID000010917  Gastrointestinal pain   \n",
      "4       CID100000085  CID000010917         Abdominal pain   \n",
      "...              ...           ...                    ...   \n",
      "309844  CID171306834  CID071306834    Respiratory failure   \n",
      "309845  CID171306834  CID071306834        Abnormal vision   \n",
      "309846  CID171306834  CID071306834      Visual impairment   \n",
      "309847  CID171306834  CID071306834                  Warts   \n",
      "309848  CID171306834  CID071306834         Skin papilloma   \n",
      "\n",
      "        Blood and lymphatic system disorders  Cardiac disorders  \\\n",
      "0                                        0.0                0.0   \n",
      "1                                        0.0                0.0   \n",
      "2                                        0.0                0.0   \n",
      "3                                        0.0                0.0   \n",
      "4                                        0.0                0.0   \n",
      "...                                      ...                ...   \n",
      "309844                                   0.0                0.0   \n",
      "309845                                   0.0                0.0   \n",
      "309846                                   0.0                0.0   \n",
      "309847                                   0.0                0.0   \n",
      "309848                                   0.0                0.0   \n",
      "\n",
      "        Congenital, familial and genetic disorders  \\\n",
      "0                                              0.0   \n",
      "1                                              0.0   \n",
      "2                                              0.0   \n",
      "3                                              0.0   \n",
      "4                                              0.0   \n",
      "...                                            ...   \n",
      "309844                                         0.0   \n",
      "309845                                         0.0   \n",
      "309846                                         0.0   \n",
      "309847                                         0.0   \n",
      "309848                                         0.0   \n",
      "\n",
      "        Ear and labyrinth disorders  Endocrine disorders  Eye disorders  \\\n",
      "0                               0.0                  0.0            0.0   \n",
      "1                               0.0                  0.0            0.0   \n",
      "2                               0.0                  0.0            0.0   \n",
      "3                               0.0                  0.0            0.0   \n",
      "4                               0.0                  0.0            0.0   \n",
      "...                             ...                  ...            ...   \n",
      "309844                          0.0                  0.0            0.0   \n",
      "309845                          0.0                  0.0            1.0   \n",
      "309846                          0.0                  0.0            1.0   \n",
      "309847                          0.0                  0.0            0.0   \n",
      "309848                          0.0                  0.0            0.0   \n",
      "\n",
      "        Gastrointestinal disorders  ...  \\\n",
      "0                              1.0  ...   \n",
      "1                              1.0  ...   \n",
      "2                              1.0  ...   \n",
      "3                              1.0  ...   \n",
      "4                              1.0  ...   \n",
      "...                            ...  ...   \n",
      "309844                         0.0  ...   \n",
      "309845                         0.0  ...   \n",
      "309846                         0.0  ...   \n",
      "309847                         1.0  ...   \n",
      "309848                         0.0  ...   \n",
      "\n",
      "        Musculoskeletal and connective tissue disorders  \\\n",
      "0                                                   0.0   \n",
      "1                                                   0.0   \n",
      "2                                                   0.0   \n",
      "3                                                   0.0   \n",
      "4                                                   0.0   \n",
      "...                                                 ...   \n",
      "309844                                              0.0   \n",
      "309845                                              0.0   \n",
      "309846                                              0.0   \n",
      "309847                                              0.0   \n",
      "309848                                              0.0   \n",
      "\n",
      "        Neoplasms benign, malignant and unspecified (incl cysts and polyps)  \\\n",
      "0                                                     0.0                     \n",
      "1                                                     0.0                     \n",
      "2                                                     0.0                     \n",
      "3                                                     0.0                     \n",
      "4                                                     0.0                     \n",
      "...                                                   ...                     \n",
      "309844                                                0.0                     \n",
      "309845                                                0.0                     \n",
      "309846                                                0.0                     \n",
      "309847                                                1.0                     \n",
      "309848                                                1.0                     \n",
      "\n",
      "        Nervous system disorders  \\\n",
      "0                            0.0   \n",
      "1                            0.0   \n",
      "2                            0.0   \n",
      "3                            0.0   \n",
      "4                            0.0   \n",
      "...                          ...   \n",
      "309844                       0.0   \n",
      "309845                       0.0   \n",
      "309846                       0.0   \n",
      "309847                       0.0   \n",
      "309848                       0.0   \n",
      "\n",
      "        Pregnancy, puerperium and perinatal conditions  Psychiatric disorders  \\\n",
      "0                                                  0.0                    0.0   \n",
      "1                                                  0.0                    0.0   \n",
      "2                                                  0.0                    0.0   \n",
      "3                                                  0.0                    0.0   \n",
      "4                                                  0.0                    0.0   \n",
      "...                                                ...                    ...   \n",
      "309844                                             1.0                    0.0   \n",
      "309845                                             0.0                    0.0   \n",
      "309846                                             0.0                    0.0   \n",
      "309847                                             0.0                    0.0   \n",
      "309848                                             0.0                    0.0   \n",
      "\n",
      "        Renal and urinary disorders  Reproductive system and breast disorders  \\\n",
      "0                               0.0                                       0.0   \n",
      "1                               0.0                                       0.0   \n",
      "2                               0.0                                       0.0   \n",
      "3                               0.0                                       0.0   \n",
      "4                               0.0                                       0.0   \n",
      "...                             ...                                       ...   \n",
      "309844                          0.0                                       0.0   \n",
      "309845                          0.0                                       0.0   \n",
      "309846                          0.0                                       0.0   \n",
      "309847                          0.0                                       1.0   \n",
      "309848                          0.0                                       0.0   \n",
      "\n",
      "        Respiratory, thoracic and mediastinal disorders  \\\n",
      "0                                                   0.0   \n",
      "1                                                   0.0   \n",
      "2                                                   0.0   \n",
      "3                                                   0.0   \n",
      "4                                                   0.0   \n",
      "...                                                 ...   \n",
      "309844                                              1.0   \n",
      "309845                                              0.0   \n",
      "309846                                              0.0   \n",
      "309847                                              0.0   \n",
      "309848                                              0.0   \n",
      "\n",
      "        Skin and subcutaneous tissue disorders  Vascular disorders  \n",
      "0                                          0.0                 0.0  \n",
      "1                                          0.0                 0.0  \n",
      "2                                          0.0                 0.0  \n",
      "3                                          0.0                 0.0  \n",
      "4                                          0.0                 0.0  \n",
      "...                                        ...                 ...  \n",
      "309844                                     0.0                 0.0  \n",
      "309845                                     0.0                 0.0  \n",
      "309846                                     0.0                 0.0  \n",
      "309847                                     1.0                 0.0  \n",
      "309848                                     1.0                 0.0  \n",
      "\n",
      "[309849 rows x 26 columns]\n"
     ]
    }
   ],
   "source": [
    "df.insert(0,'STITCH_FLAT', data_se['STITCH_FLAT'])\n",
    "df.insert(1,'STITCH_STEREO', data_se['STITCH_STEREO'])\n",
    "df.insert(2,'ADR_name', data_se['ADR_name'])\n",
    "print(df)\n",
    "df.to_csv('SIDER_processed_v1.tsv', sep='\\t')"
   ]
  },
  {
   "cell_type": "code",
   "execution_count": 25,
   "id": "0ef2dd18",
   "metadata": {},
   "outputs": [
    {
     "name": "stdout",
     "output_type": "stream",
     "text": [
      "[[ 19.  27.   7.   7.  11.  21.  76.  30.  10.  25.  21.  36.  27.  28.\n",
      "   10.  44.  11.  18.  17.  12.  23.  24.  60.]\n",
      " [  2.  10.   4.   2.  16.   4.  23.  17.   4.  10.  10.  20.  22.  17.\n",
      "    2.  21.  14.  12.   2.   2.  10.   6.  16.]\n",
      " [  7.  10.   2.   2.   2.  61.  16.  12.   0.  23.  15.  19.   2.  13.\n",
      "    0.  29.   6.  10.   2.   0.  24.  28.  27.]\n",
      " [ 86.  93.  55.  36.  52. 133. 183. 137.  51. 153. 161. 136.  93. 129.\n",
      "   36. 245.  84. 133.  82.  84. 158. 158. 205.]\n",
      " [  0.   8.   0.   0.   1.   0.  14.   3.   0.   1.   3.  12.   1.   2.\n",
      "    0.  11.  10.   4.   0.   1.   1.   5.  12.]]\n",
      "[[1 1 1 1 1 1 1 1 1 1 1 1 1 1 1 1 1 1 1 1 1 1 1]\n",
      " [1 1 1 1 1 1 1 1 1 1 1 1 1 1 1 1 1 1 1 1 1 1 1]\n",
      " [1 1 1 1 1 1 1 1 0 1 1 1 1 1 0 1 1 1 1 0 1 1 1]\n",
      " [1 1 1 1 1 1 1 1 1 1 1 1 1 1 1 1 1 1 1 1 1 1 1]\n",
      " [0 1 0 0 1 0 1 1 0 1 1 1 1 1 0 1 1 1 0 1 1 1 1]]\n",
      "(1556, 23)\n",
      "number of entries for each SE: Blood and lymphatic system disorders                                   1435\n",
      "Cardiac disorders                                                      1444\n",
      "Congenital, familial and genetic disorders                             1371\n",
      "Ear and labyrinth disorders                                            1260\n",
      "Endocrine disorders                                                    1300\n",
      "Eye disorders                                                          1485\n",
      "Gastrointestinal disorders                                             1532\n",
      "General disorders and administration site conditions                   1535\n",
      "Hepatobiliary disorders                                                1324\n",
      "Immune system disorders                                                1522\n",
      "Infections and infestations                                            1516\n",
      "Injury, poisoning and procedural complications                         1542\n",
      "Metabolism and nutrition disorders                                     1409\n",
      "Musculoskeletal and connective tissue disorders                        1499\n",
      "Neoplasms benign, malignant and unspecified (incl cysts and polyps)    1276\n",
      "Nervous system disorders                                               1515\n",
      "Pregnancy, puerperium and perinatal conditions                         1473\n",
      "Psychiatric disorders                                                  1441\n",
      "Renal and urinary disorders                                            1390\n",
      "Reproductive system and breast disorders                               1419\n",
      "Respiratory, thoracic and mediastinal disorders                        1495\n",
      "Skin and subcutaneous tissue disorders                                 1515\n",
      "Vascular disorders                                                     1536\n",
      "dtype: int64\n",
      "0\n"
     ]
    }
   ],
   "source": [
    "#--- Creating SE dataset with single entries for all drugs--#\n",
    "\n",
    "import pandas as pd\n",
    "import numpy as np\n",
    "df_sider = pd.read_csv('SIDER_processed_v1.tsv', sep='\\t')\n",
    "column_names_list = df_sider.columns.tolist()\n",
    "# print(column_names_list)\n",
    "result_sum = df_sider.groupby('STITCH_STEREO').sum().reset_index() # sum side effect vectors correspond to a specific drug\n",
    "# print(df_sider)\n",
    "# print(result_sum)\n",
    "y = result_sum.iloc[:, 2:25].values # extract columns of SEs\n",
    "print(y[-5:])\n",
    "binary_df = (y != 0).astype(int) # convert to binary matrix\n",
    "print(binary_df[-5:])\n",
    "print(binary_df.shape)\n",
    "\n",
    "result_binary = pd.DataFrame(binary_df, columns=column_names_list[4:])\n",
    "column_sums = result_binary.sum()\n",
    "print(f'number of entries for each SE: {column_sums}')\n",
    "result_binary.insert(0,'STITCH', result_sum['STITCH_STEREO'])\n",
    "# print(result_binary)\n",
    "\n",
    "# checking for rows with all zeros\n",
    "y_t = result_binary.iloc[:, 1:].values\n",
    "c = 0\n",
    "for i in range(y_t.shape[0]):\n",
    "    if np.all(y_t[i] == 0):\n",
    "        c += 1\n",
    "        print(i)\n",
    "print(c)\n",
    "result_binary.to_csv('SIDER_processed_unique_drug_entry.tsv', sep='\\t')"
   ]
  },
  {
   "cell_type": "markdown",
   "id": "c3bc673a",
   "metadata": {},
   "source": [
    "So we have a greatly imbalanced dataset"
   ]
  },
  {
   "cell_type": "markdown",
   "id": "32f971c6",
   "metadata": {},
   "source": [
    "## Retrieve SMILES from PubChem using STITCH ID"
   ]
  },
  {
   "cell_type": "code",
   "execution_count": 40,
   "id": "5752247c",
   "metadata": {},
   "outputs": [
    {
     "name": "stdout",
     "output_type": "stream",
     "text": [
      "309849\n",
      "1556\n",
      "['CID000157921', 'CID005362070', 'CID000016078', 'CID006918584', 'CID000003105', 'CID003034756', 'CID000006018', 'CID000004497', 'CID000008549', 'CID002761171', 'CID016136912', 'CID000002972', 'CID000004896', 'CID000002754', 'CID000708857', 'CID027885548', 'CID000037542', 'CID000123600', 'CID005742832', 'CID000005768', 'CID005388961', 'CID000038852', 'CID000064778', 'CID000004032', 'CID005281107', 'CID000219090', 'CID000026757', 'CID000041744', 'CID000003151', 'CID000060834', 'CID003010818', 'CID006321411', 'CID000006468', 'CID005284583', 'CID000002156', 'CID000002578', 'CID000003372', 'CID000001978', 'CID000061475', 'CID000023993', 'CID000055466', 'CID000002727', 'CID000005524', 'CID024873435', 'CID000004139', 'CID003081884', 'CID003005572', 'CID000002803', 'CID000004235', 'CID000059768', 'CID000000774', 'CID000153994', 'CID000027661', 'CID000005430', 'CID000005311', 'CID000021844', 'CID000039468', 'CID000005184', 'CID000006196', 'CID000119182', 'CID006918638', 'CID000060934', 'CID000003279', 'CID006442177', 'CID009568613', 'CID000358641', 'CID010178705', 'CID000044093', 'CID000045469', 'CID000047641', 'CID000005078', 'CID000033255', 'CID000119828', 'CID044146714', 'CID000003939', 'CID000007638', 'CID000004034', 'CID000688020', 'CID000003957', 'CID000107694', 'CID000004740', 'CID000004746', 'CID000060751', 'CID000439693', 'CID000003182', 'CID000012597', 'CID000003366', 'CID005460037', 'CID000005452', 'CID000000175', 'CID000001054', 'CID000150610', 'CID000004440', 'CID000005565', 'CID070695640', 'CID006540461', 'CID000055331', 'CID006435110', 'CID056603655', 'CID000005546', 'CID000065628', 'CID000060795', 'CID016129682', 'CID000060853', 'CID000011333', 'CID000082153', 'CID000003198', 'CID000003964', 'CID005284627', 'CID005311051', 'CID000000785', 'CID006714010', 'CID000060612', 'CID000005526', 'CID000004747', 'CID000005865', 'CID000124087', 'CID000065981', 'CID011626560', 'CID000179344', 'CID000023976', 'CID000005070', 'CID003032525', 'CID000009003', 'CID006917715', 'CID005493381', 'CID009838021', 'CID000042113', 'CID000006238', 'CID005311236', 'CID009831414', 'CID024838347', 'CID000004810', 'CID000010100', 'CID000004908', 'CID000003059', 'CID006918366', 'CID000005909', 'CID009916860', 'CID000123634', 'CID000443884', 'CID000002541', 'CID000004999', 'CID000004506', 'CID000004114', 'CID000009642', 'CID000060668', 'CID000004205', 'CID000003292', 'CID025074470', 'CID000059226', 'CID000004915', 'CID016132446', 'CID053477714', 'CID000036462', 'CID005284596', 'CID000168924', 'CID000003724', 'CID000000312', 'CID000003510', 'CID000455658', 'CID000021319', 'CID005329102', 'CID005360237', 'CID000003763', 'CID000073491', 'CID000002519', 'CID000044563', 'CID000061799', 'CID000449193', 'CID000023897', 'CID024821094', 'CID000051263', 'CID000449688', 'CID000000750', 'CID011949646', 'CID000060779', 'CID000004091', 'CID000444036', 'CID000005379', 'CID005282593', 'CID000192155', 'CID000667490', 'CID006604100', 'CID000033624', 'CID016004692', 'CID009567573', 'CID006436173', 'CID000039147', 'CID000071301', 'CID005462337', 'CID009579578', 'CID000060198', 'CID000452548', 'CID005311181', 'CID000003467', 'CID006003770', 'CID000016886', 'CID009930048', 'CID000013791', 'CID000041781', 'CID000213039', 'CID000010531', 'CID000008223', 'CID009868491', 'CID026275995', 'CID000009651', 'CID054684141', 'CID000084029', 'CID003032400', 'CID000168708', 'CID000003715', 'CID003001028', 'CID000071348', 'CID000219078', 'CID000006883', 'CID000031703', 'CID000054786', 'CID000003954', 'CID000006869', 'CID000065028', 'CID000001990', 'CID000003899', 'CID000005426', 'CID000004030', 'CID016137271', 'CID000057363', 'CID000002148', 'CID000101526', 'CID000005487', 'CID000387447', 'CID000065014', 'CID070683024', 'CID009924495', 'CID000039764', 'CID011593706', 'CID000004829', 'CID000003998', 'CID000004634', 'CID014476155', 'CID006708482', 'CID070683012', 'CID005484727', 'CID003036780', 'CID000005210', 'CID000446220', 'CID006918558', 'CID002723876', 'CID005282175', 'CID000444006', 'CID000003308', 'CID000005503', 'CID000038904', 'CID000443936', 'CID005360373', 'CID000004756', 'CID000443878', 'CID000004992', 'CID051508717', 'CID000003032', 'CID000456201', 'CID005273759', 'CID000002369', 'CID009898619', 'CID000006215', 'CID000005468', 'CID000005582', 'CID000158781', 'CID005281040', 'CID000216258', 'CID000441401', 'CID000005071', 'CID000003825', 'CID000003739', 'CID011556711', 'CID009831761', 'CID000004051', 'CID016132418', 'CID000003114', 'CID000060830', 'CID000004036', 'CID000009400', 'CID000004060', 'CID000004064', 'CID000015541', 'CID016129704', 'CID000441350', 'CID000157920', 'CID000005852', 'CID000006041', 'CID009854073', 'CID000031401', 'CID000003598', 'CID000003380', 'CID071306834', 'CID005282241', 'CID000028332', 'CID001548954', 'CID010220503', 'CID000026069', 'CID000023951', 'CID000052421', 'CID000130881', 'CID010482134', 'CID000069512', 'CID000003406', 'CID000057697', 'CID000157688', 'CID000009681', 'CID005281034', 'CID000005556', 'CID000002610', 'CID000003016', 'CID000013342', 'CID000165579', 'CID005487068', 'CID000004044', 'CID003080904', 'CID005361092', 'CID005311454', 'CID000004168', 'CID000002160', 'CID000009880', 'CID000002435', 'CID000005453', 'CID000449677', 'CID000005905', 'CID000077998', 'CID015951529', 'CID003007855', 'CID000657180', 'CID000003690', 'CID053320414', 'CID000005193', 'CID006335986', 'CID005479529', 'CID000464205', 'CID009571107', 'CID000072170', 'CID000071616', 'CID000441313', 'CID000006010', 'CID005381226', 'CID000002995', 'CID000012536', 'CID005362420', 'CID000065856', 'CID000004100', 'CID000002708', 'CID000002266', 'CID000002442', 'CID000006503', 'CID006451164', 'CID000092721', 'CID000035370', 'CID000006451', 'CID000439302', 'CID000160051', 'CID000047964', 'CID000003821', 'CID000033741', 'CID005362065', 'CID003032583', 'CID016134956', 'CID006419957', 'CID024847874', 'CID003002190', 'CID000445643', 'CID000005719', 'CID000000143', 'CID000020279', 'CID005284594', 'CID006323490', 'CID000047725', 'CID025077649', 'CID000003657', 'CID000003038', 'CID000152945', 'CID000005533', 'CID010034073', 'CID009926791', 'CID000091429', 'CID016129665', 'CID000014789', 'CID000009433', 'CID000123631', 'CID006918456', 'CID006918204', 'CID000450503', 'CID005353853', 'CID009852981', 'CID000009444', 'CID000057166', 'CID000002284', 'CID000005771', 'CID000007699', 'CID006918554', 'CID011238823', 'CID000001084', 'CID000005780', 'CID000004421', 'CID005284603', 'CID000032798', 'CID000003080', 'CID016131923', 'CID006433272', 'CID000005245', 'CID005282425', 'CID000004616', 'CID000002159', 'CID045375808', 'CID000008230', 'CID000002349', 'CID000439260', 'CID000004673', 'CID000020585', 'CID000062819', 'CID000062886', 'CID000517045', 'CID009881504', 'CID000148192', 'CID000003355', 'CID000006049', 'CID000004510', 'CID000033613', 'CID000006322', 'CID000027350', 'CID000000187', 'CID000003121', 'CID000005358', 'CID005361917', 'CID000008378', 'CID000006058', 'CID000004011', 'CID000026133', 'CID000001727', 'CID000003738', 'CID000014051', 'CID000024087', 'CID000004914', 'CID000007028', 'CID000037768', 'CID011499245', 'CID000002767', 'CID000005572', 'CID000002187', 'CID049800003', 'CID000023982', 'CID000005329', 'CID000036811', 'CID025102847', 'CID000004004', 'CID000002564', 'CID000657237', 'CID005460193', 'CID000047320', 'CID005284566', 'CID000002484', 'CID023668479', 'CID000002554', 'CID000163296', 'CID006918365', 'CID000060860', 'CID000024706', 'CID000077992', 'CID000005314', 'CID000004935', 'CID056842239', 'CID000060855', 'CID000062305', 'CID006437075', 'CID000004943', 'CID000005743', 'CID000004649', 'CID000002663', 'CID009875401', 'CID000042395', 'CID000032169', 'CID006604200', 'CID000014970', 'CID070788982', 'CID000003658', 'CID000004695', 'CID000004057', 'CID006509979', 'CID000060852', 'CID000023926', 'CID000003305', 'CID000644241', 'CID000159247', 'CID000002905', 'CID000065866', 'CID000004763', 'CID000029029', 'CID000051634', 'CID000014969', 'CID000060606', 'CID001548886', 'CID000005508', 'CID000002576', 'CID025244225', 'CID000002732', 'CID000037464', 'CID000016230', 'CID000005391', 'CID000060936', 'CID000003202', 'CID000002441', 'CID000003440', 'CID000005381', 'CID000636380', 'CID000221493', 'CID000055188', 'CID006452749', 'CID005311067', 'CID000039507', 'CID006450551', 'CID000060857', 'CID006321416', 'CID000002474', 'CID000176870', 'CID000004436', 'CID000003324', 'CID000004058', 'CID000004993', 'CID000018342', 'CID000003007', 'CID000005483', 'CID000206527', 'CID000002082', 'CID025181561', 'CID000002153', 'CID005280754', 'CID000003488', 'CID000446155', 'CID000005401', 'CID000004456', 'CID000450096', 'CID000005584', 'CID000004499', 'CID000003348', 'CID000002161', 'CID005479537', 'CID000003958', 'CID003086674', 'CID044564107', 'CID000003414', 'CID000047319', 'CID000071386', 'CID000060726', 'CID000171558', 'CID000259329', 'CID000107807', 'CID000002733', 'CID000003009', 'CID000018381', 'CID009960701', 'CID000000961', 'CID000005755', 'CID000004189', 'CID004369359', 'CID000005904', 'CID005284549', 'CID000003386', 'CID006433212', 'CID000004120', 'CID000005505', 'CID000005095', 'CID000003476', 'CID000060774', 'CID003081361', 'CID000077997', 'CID006918010', 'CID000474409', 'CID000028486', 'CID000004107', 'CID000004845', 'CID006328144', 'CID005280483', 'CID000005593', 'CID011467166', 'CID000027991', 'CID006324671', 'CID000129228', 'CID000151165', 'CID003038497', 'CID015950376', 'CID000056338', 'CID000006037', 'CID000003241', 'CID000060656', 'CID000060846', 'CID005353562', 'CID000004631', 'CID000383413', 'CID005362440', 'CID000021800', 'CID000005790', 'CID000060825', 'CID000002341', 'CID000003340', 'CID000042593', 'CID000004033', 'CID000002818', 'CID000007029', 'CID005360696', 'CID000003741', 'CID010077129', 'CID005311498', 'CID000003948', 'CID016132265', 'CID000031072', 'CID000036523', 'CID005352062', 'CID003034812', 'CID000005983', 'CID000003345', 'CID000446541', 'CID009940864', 'CID000060871', 'CID000004493', 'CID000443872', 'CID000000896', 'CID000005333', 'CID016129629', 'CID000054687', 'CID000071158', 'CID005386092', 'CID000010340', 'CID000029089', 'CID000012035', 'CID000004450', 'CID011254352', 'CID000441290', 'CID005281104', 'CID000441277', 'CID000001130', 'CID000125017', 'CID024847863', 'CID009966051', 'CID019371515', 'CID000259331', 'CID001548943', 'CID000002955', 'CID000004768', 'CID000005479', 'CID000151075', 'CID000050224', 'CID005280363', 'CID000004585', 'CID005464096', 'CID011658859', 'CID000000311', 'CID000008982', 'CID016130965', 'CID000004195', 'CID000005746', 'CID000083030', 'CID000135113', 'CID000005870', 'CID000003331', 'CID000005215', 'CID000443958', 'CID000006446', 'CID000041693', 'CID005480431', 'CID000068844', 'CID000000247', 'CID000073303', 'CID000023925', 'CID000003339', 'CID000027400', 'CID006915944', 'CID000003100', 'CID071306891', 'CID000002366', 'CID000002520', 'CID000044257', 'CID000002764', 'CID003002977', 'CID000060953', 'CID002724354', 'CID000004932', 'CID000043672', 'CID009854489', 'CID000027304', 'CID000004201', 'CID000119212', 'CID000004454', 'CID000002022', 'CID000060184', 'CID000010607', 'CID000002749', 'CID000000297', 'CID000002351', 'CID000031307', 'CID000064142', 'CID000003364', 'CID011167602', 'CID006918493', 'CID000003463', 'CID009815560', 'CID000004679', 'CID000005152', 'CID016157882', 'CID006850791', 'CID000054384', 'CID000004236', 'CID000005403', 'CID000062816', 'CID000060837', 'CID000005995', 'CID005311066', 'CID006436131', 'CID000062358', 'CID000040976', 'CID000148121', 'CID000002088', 'CID000010631', 'CID000092253', 'CID016133802', 'CID003036505', 'CID000000681', 'CID000005206', 'CID000016850', 'CID000002762', 'CID000003042', 'CID000003494', 'CID000158786', 'CID016136245', 'CID000225609', 'CID000004449', 'CID016132283', 'CID011504294', 'CID000003742', 'CID000446157', 'CID000149436', 'CID000104799', 'CID005281004', 'CID000005214', 'CID000005591', 'CID005284513', 'CID000134780', 'CID009887712', 'CID000003393', 'CID006433082', 'CID000002794', 'CID000005717', 'CID011304743', 'CID000005576', 'CID054675779', 'CID000004906', 'CID000014888', 'CID000185457', 'CID000123606', 'CID000010547', 'CID000154058', 'CID000003623', 'CID000003168', 'CID000004911', 'CID000005073', 'CID000008233', 'CID000151171', 'CID000003152', 'CID000064147', 'CID024826799', 'CID000208902', 'CID024846132', 'CID000009034', 'CID000060699', 'CID016220172', 'CID000004539', 'CID016132441', 'CID011561674', 'CID000065016', 'CID000004771', 'CID000034359', 'CID000002099', 'CID000054158', 'CID005282411', 'CID022451303', 'CID010113978', 'CID000072022', 'CID003085017', 'CID000123610', 'CID000002801', 'CID006917778', 'CID011707110', 'CID013559281', 'CID000003394', 'CID000006032', 'CID000003730', 'CID000005735', 'CID000000222', 'CID000060613', 'CID011979316', 'CID000003278', 'CID000004946', 'CID000039042', 'CID000019090', 'CID000005825', 'CID000197712', 'CID000193962', 'CID005362129', 'CID000039186', 'CID000441140', 'CID000005775', 'CID054671203', 'CID000064929', 'CID000000772', 'CID000000948', 'CID000006279', 'CID000047471', 'CID000005291', 'CID000969472', 'CID000082146', 'CID000004748', 'CID000104758', 'CID000004609', 'CID000004409', 'CID005458213', 'CID011243969', 'CID006328526', 'CID005282451', 'CID000002881', 'CID000016362', 'CID000037392', 'CID000032603', 'CID000065863', 'CID000071329', 'CID000447043', 'CID024812758', 'CID070683023', 'CID000023954', 'CID000030323', 'CID000060749', 'CID000004735', 'CID009833444', 'CID016213095', 'CID006323497', 'CID005288826', 'CID000154417', 'CID000016124', 'CID000037720', 'CID000002809', 'CID005362123', 'CID000047811', 'CID000441276', 'CID005702160', 'CID005281099', 'CID000053024', 'CID005281075', 'CID000003869', 'CID011450633', 'CID000174174', 'CID000460612', 'CID000060706', 'CID000050294', 'CID054686183', 'CID000131535', 'CID000002756', 'CID000083898', 'CID000216235', 'CID000077990', 'CID000003516', 'CID005481350', 'CID000003108', 'CID005281078', 'CID044201343', 'CID000003219', 'CID025074886', 'CID000004192', 'CID000004891', 'CID005359596', 'CID000134018', 'CID005311101', 'CID011519069', 'CID005311052', 'CID000005833', 'CID006326970', 'CID000004473', 'CID000032874', 'CID005311000', 'CID003033637', 'CID000123809', 'CID000000923', 'CID000197281', 'CID006533629', 'CID000047528', 'CID000002094', 'CID000000271', 'CID000441336', 'CID000006251', 'CID000002141', 'CID000012620', 'CID000002678', 'CID016131310', 'CID000031100', 'CID005359272', 'CID000148123', 'CID000006167', 'CID070685014', 'CID000003759', 'CID000003637', 'CID005353894', 'CID000006726', 'CID000002182', 'CID000008612', 'CID000060648', 'CID017754356', 'CID000016533', 'CID009825285', 'CID006453361', 'CID000065157', 'CID000448812', 'CID000002216', 'CID000004991', 'CID000043815', 'CID000054840', 'CID000005002', 'CID000009416', 'CID006178111', 'CID005486971', 'CID000004870', 'CID000033036', 'CID005281042', 'CID000219024', 'CID000175804', 'CID003001055', 'CID000150311', 'CID005284616', 'CID000121396', 'CID000005959', 'CID053627505', 'CID000005994', 'CID000004158', 'CID000009878', 'CID000003388', 'CID000445226', 'CID000015232', 'CID005284537', 'CID000006249', 'CID000002478', 'CID005311167', 'CID000051038', 'CID000005734', 'CID000072466', 'CID000002479', 'CID000004913', 'CID000018283', 'CID006918313', 'CID005280965', 'CID005487301', 'CID000057469', 'CID024776445', 'CID000000700', 'CID003086257', 'CID057396865', 'CID000154100', 'CID003003141', 'CID000489181', 'CID005289223', 'CID011947681', 'CID000004680', 'CID000060752', 'CID000060754', 'CID000002162', 'CID000009403', 'CID011234049', 'CID000004062', 'CID000004178', 'CID000072081', 'CID044201342', 'CID005280793', 'CID005288169', 'CID000005665', 'CID000003342', 'CID005311309', 'CID000003676', 'CID016132438', 'CID000002913', 'CID000004909', 'CID000163091', 'CID000005770', 'CID000004121', 'CID000119607', 'CID003062316', 'CID000043232', 'CID000000942', 'CID000005834', 'CID000071406', 'CID000060026', 'CID000014917', 'CID000024414', 'CID000003478', 'CID006434870', 'CID000055245', 'CID000025419', 'CID000213046', 'CID000003661', 'CID000005920', 'CID005479530', 'CID000060946', 'CID000153941', 'CID000017358', 'CID000004614', 'CID000170361', 'CID000060877', 'CID000012560', 'CID003011155', 'CID000115355', 'CID000028864', 'CID000040326', 'CID000060172', 'CID005311221', 'CID005324345', 'CID000003848', 'CID000002140', 'CID000015459', 'CID000003226', 'CID000005161', 'CID001548999', 'CID006918140', 'CID071306410', 'CID000004095', 'CID000003767', 'CID000003737', 'CID000003827', 'CID000006230', 'CID024822371', 'CID002826718', 'CID000064139', 'CID000004253', 'CID011020241', 'CID005329098', 'CID000216239', 'CID000164522', 'CID000023994', 'CID005359476', 'CID000002083', 'CID000005029', 'CID023690938', 'CID000005411', 'CID000004174', 'CID000002907', 'CID005284570', 'CID000001775', 'CID006435378', 'CID011597697', 'CID000004737', 'CID000000612', 'CID000060843', 'CID000005419', 'CID000156418', 'CID000003117', 'CID000123611', 'CID000005757', 'CID000003261', 'CID000000338', 'CID000000937', 'CID000003291', 'CID006435755', 'CID000002130', 'CID005312125', 'CID000003883', 'CID024965990', 'CID000119569', 'CID000002712', 'CID000002431', 'CID000107969', 'CID000005596', 'CID000003779', 'CID000009294', 'CID000000946', 'CID016129690', 'CID006850789', 'CID003083544', 'CID005282415', 'CID000004583', 'CID000003652', 'CID000065492', 'CID004659569', 'CID000000679', 'CID000089594', 'CID003052775', 'CID000002789', 'CID000005961', 'CID000040703', 'CID000003961', 'CID000004101', 'CID005277135', 'CID000003878', 'CID000004917', 'CID000003157', 'CID000007012', 'CID000003746', 'CID000005472', 'CID005360515', 'CID000026934', 'CID000072165', 'CID000041867', 'CID000003696', 'CID009578572', 'CID000004543', 'CID000009904', 'CID000002719', 'CID000003672', 'CID000002583', 'CID056841124', 'CID000477468', 'CID025077594', 'CID000001993', 'CID000009782', 'CID000031477', 'CID000004170', 'CID000065281', 'CID000003158', 'CID000024424', 'CID011001318', 'CID006437877', 'CID000060496', 'CID005463984', 'CID000466146', 'CID000000727', 'CID000065139', 'CID005280453', 'CID009690109', 'CID016129688', 'CID000004893', 'CID000003826', 'CID000054949', 'CID000021945', 'CID000468595', 'CID000004054', 'CID000168625', 'CID000003702', 'CID011672602', 'CID000667477', 'CID006918670', 'CID000005815', 'CID000003410', 'CID000005577', 'CID005493444', 'CID016129672', 'CID025077179', 'CID000104741', 'CID000108150', 'CID000005756', 'CID010324367', 'CID000132971', 'CID009831783', 'CID000002391', 'CID000000137', 'CID000159269', 'CID010184653', 'CID000007187', 'CID006918172', 'CID000006436', 'CID000002337', 'CID005362051', 'CID000006006', 'CID006480466', 'CID000002726', 'CID000054331', 'CID000004197', 'CID000071384', 'CID000012559', 'CID025151504', 'CID006918182', 'CID000064780', 'CID000065840', 'CID000036339', 'CID004517618', 'CID000003019', 'CID000241902', 'CID000003397', 'CID009871419', 'CID000002244', 'CID000444795', 'CID000441193', 'CID000131204', 'CID000443385', 'CID016139342', 'CID000000888', 'CID000441129', 'CID000003446', 'CID000077993', 'CID000004031', 'CID000082148', 'CID000003373', 'CID000054746', 'CID054676537', 'CID000003784', 'CID000002720', 'CID000247839', 'CID000002118', 'CID000013769', 'CID000064730', 'CID000068613', 'CID024847741', 'CID000441199', 'CID005281037', 'CID009869929', 'CID000002267', 'CID003052762', 'CID000135326', 'CID000092974', 'CID000040692', 'CID000060464', 'CID000023978', 'CID002733525', 'CID000040632', 'CID000071414', 'CID000000444', 'CID000024841', 'CID000060490', 'CID006918193', 'CID000024066', 'CID000036294', 'CID000001003', 'CID005281006', 'CID005384001', 'CID000013314', 'CID000107994', 'CID000011683', 'CID000002895', 'CID000065999', 'CID000054891', 'CID016129616', 'CID000006013', 'CID000005878', 'CID000154256', 'CID000055283', 'CID000132999', 'CID005280954', 'CID000003783', 'CID000006741', 'CID006918537', 'CID000060814', 'CID000071469', 'CID005388906', 'CID000016923', 'CID016130295', 'CID000004274', 'CID011672461', 'CID000002812', 'CID000121892', 'CID000121749', 'CID000023957', 'CID000166548', 'CID000071360', 'CID000060961', 'CID044567678', 'CID000002725', 'CID000012555', 'CID000216326', 'CID005284569', 'CID000020824', 'CID000001046', 'CID000444025', 'CID000005732', 'CID000028417', 'CID000006252', 'CID000002585', 'CID005464097', 'CID000445354', 'CID000003053', 'CID000054454', 'CID000009677', 'CID005327147', 'CID005352019', 'CID000002662', 'CID000091488', 'CID000024642', 'CID049800046', 'CID000040973', 'CID000060714', 'CID009578005', 'CID000030751', 'CID000005939', 'CID000005819', 'CID000005394', 'CID000003475', 'CID000003743', 'CID005284371', 'CID051601240', 'CID054687131', 'CID000104865', 'CID005311412', 'CID054686904', 'CID000222786', 'CID000657298', 'CID000001986', 'CID003000226', 'CID016130199', 'CID000149096', 'CID005481173', 'CID000104849', 'CID000054259', 'CID000003559', 'CID000005754', 'CID005284555', 'CID000004184', 'CID000104798', 'CID000029327', 'CID000040291', 'CID000444013', 'CID000020469', 'CID000002477', 'CID000126941', 'CID000444008', 'CID000003454', 'CID000054373', 'CID000005318', 'CID000002179', 'CID000026986', 'CID000160352', 'CID000134019', 'CID000003154', 'CID000208908', 'CID006445540', 'CID005462501', 'CID000104810', 'CID016129674', 'CID010182969', 'CID000005578', 'CID000000767', 'CID003033825', 'CID011501341', 'CID000000753', 'CID009865528', 'CID000638678', 'CID006714002', 'CID000002249', 'CID006321408', 'CID000003333', 'CID000004934', 'CID000044564', 'CID005282226', 'CID000060822', 'CID000005253', 'CID009552079', 'CID000003950', 'CID000062965', 'CID000002973', 'CID000216210', 'CID016129703', 'CID001549007', 'CID005362118', 'CID000024450', 'CID000006234', 'CID000444030', 'CID000002771', 'CID005488547', 'CID000062956', 'CID000023568', 'CID046216142', 'CID000003519', 'CID000005090', 'CID000004601', 'CID000009793', 'CID000449171', 'CID000013109', 'CID000003365', 'CID000002019', 'CID000063009', 'CID000129211', 'CID000004595', 'CID006918289', 'CID000010917', 'CID044564722', 'CID000025959', 'CID000000598', 'CID000001983', 'CID000003749', 'CID000004775', 'CID016019977', 'CID000392622', 'CID000002163', 'CID000056329', 'CID000003647', 'CID000006432', 'CID000444412', 'CID000441335', 'CID000006476', 'CID000066370', 'CID000941650', 'CID006918296', 'CID000002802', 'CID000005877', 'CID012993649', 'CID000003520', 'CID000002471', 'CID000003675', 'CID000446156', 'CID000078032', 'CID000060164', 'CID000062959', 'CID025081014', 'CID005282380', 'CID000003736', 'CID000003830', 'CID011505907', 'CID000031378', 'CID005001396', 'CID000006116', 'CID005280723', 'CID000004828', 'CID006337614', 'CID000002405', 'CID000002551', 'CID045487623', 'CID000004594', 'CID000004075', 'CID000001125', 'CID003034010', 'CID000002123', 'CID005311065', 'CID000002462', 'CID000050599', 'CID002724385', 'CID000002375', 'CID000010413', 'CID000115237', 'CID000002265', 'CID005282381', 'CID000004976', 'CID000003156', 'CID000072286', 'CID000003902', 'CID000005238', 'CID000000813', 'CID000004211', 'CID005281071', 'CID000005035', 'CID000074989', 'CID000002145', 'CID005281081', 'CID000010133', 'CID002723601', 'CID000005566', 'CID000005359', 'CID000005530', 'CID000039860', 'CID000443943', 'CID000006832', 'CID025126797', 'CID001548952', 'CID005311068', 'CID006918155', 'CID000055891', 'CID006918250', 'CID000041774', 'CID000446284', 'CID005282379', 'CID000941651', 'CID000000119', 'CID000005248', 'CID000004212', 'CID000441383', 'CID042611257', 'CID000006005', 'CID000027447', 'CID000031264', 'CID000004725', 'CID000145068', 'CID009853053', 'CID000003354', 'CID000041684', 'CID000216416', 'CID000055480', 'CID005328940', 'CID000148211', 'CID005742673', 'CID001349907', 'CID000123619', 'CID000004086', 'CID000002170', 'CID005284543', 'CID000110634', 'CID000002315', 'CID000005320', 'CID010096344', 'CID000446596', 'CID000000244', 'CID000002345', 'CID000060772', 'CID000208898', 'CID045267081', 'CID000011973', 'CID016132344', 'CID000105145', 'CID023652731', 'CID000000206', 'CID005311027', 'CID000006256', 'CID000005564', 'CID000003385', 'CID000010836', 'CID016131215', 'CID000002540', 'CID000004173', 'CID000443953', 'CID000065370', 'CID000451668', 'CID000000564', 'CID000004485', 'CID000056959', 'CID000002370', 'CID000071415', 'CID000005212', 'CID044462760', 'CID000042890', 'CID006918453', 'CID000146570', 'CID000002092', 'CID000034312', 'CID000005656', 'CID000005978', 'CID025077993', 'CID000004927', 'CID000156391', 'CID000084003', 'CID005280360', 'CID000011125', 'CID000010660', 'CID000022502', 'CID023689036', 'CID000441314', 'CID000004171', 'CID000005625', 'CID006602291', 'CID000003043', 'CID000004463', 'CID000002617', 'CID000003639', 'CID005311304', 'CID005311507', 'CID000216237', 'CID000021700', 'CID000053232', 'CID005288783', 'CID000008226', 'CID000008197', 'CID005310993', 'CID000441300', 'CID000064710', 'CID000636374', 'CID000003517', 'CID000022318', 'CID000068740', 'CID000110635', 'CID000147740', 'CID000012460', 'CID000015209', 'CID005284604']\n"
     ]
    }
   ],
   "source": [
    "# Get the unique list of STITCH Ids\n",
    "print(len(data_se['STITCH_STEREO']))\n",
    "unique_id = list(set(data_se['STITCH_STEREO']))\n",
    "print(len(unique_id))\n",
    "print(unique_id)"
   ]
  },
  {
   "cell_type": "code",
   "execution_count": 101,
   "id": "46feb061",
   "metadata": {},
   "outputs": [],
   "source": [
    "# print(list(set([3,4,1,2,3,2,1,1])))"
   ]
  },
  {
   "cell_type": "code",
   "execution_count": 169,
   "id": "aac2cf80",
   "metadata": {},
   "outputs": [
    {
     "name": "stdout",
     "output_type": "stream",
     "text": [
      "143\n",
      "C1C(N(C2=C(N1)NC(=NC2=O)N)C=O)CNC3=CC=C(C=C3)C(=O)NC(CCC(=O)O)C(=O)O\n",
      "C1C(N(C2=C(N1)NC(=NC2=O)N)C=O)CNC3=CC=C(C=C3)C(=O)NC(CCC(=O)O)C(=O)O\n",
      "Nc1nc(=O)c2c([nH]1)NCC(CNc1ccc(C(=O)NC(CCC(=O)O)C(=O)O)cc1)N2C=O\n",
      "6006\n",
      "C1C(N(C2=C(N1)NC(=NC2=O)N)C=O)CNC3=CC=C(C=C3)C(=O)NC(CCC(=O)O)C(=O)O\n",
      "C1C(N(C2=C(N1)NC(=NC2=O)N)C=O)CNC3=CC=C(C=C3)C(=O)N[C@@H](CCC(=O)O)C(=O)O\n",
      "Nc1nc(=O)c2c([nH]1)NCC(CNc1ccc(C(=O)N[C@@H](CCC(=O)O)C(=O)O)cc1)N2C=O\n"
     ]
    }
   ],
   "source": [
    "## Just a testing on how two CIDs correspond to same molecules with different stereochemistry\n",
    "stitch_id = ['CID000000143', 'CID000006006']\n",
    "for i in stitch_id:\n",
    "    cid = i.lstrip('CID0')\n",
    "    print(cid)\n",
    "    compound = pcp.Compound.from_cid(cid)\n",
    "    if 'canonical_smiles' in compound.to_dict():\n",
    "        print(compound.to_dict()['canonical_smiles'])\n",
    "        print(compound.to_dict()['isomeric_smiles'])\n",
    "        ms = Chem.MolFromSmiles(compound.to_dict()['isomeric_smiles'])\n",
    "        extended = Chem.MolToCXSmiles(ms, isomericSmiles=True )\n",
    "        print(extended)\n",
    "#         img = Chem.Draw.MolToImage(ms)\n",
    "# print(smile_list[39])\n",
    "#         img.show()"
   ]
  },
  {
   "cell_type": "code",
   "execution_count": 170,
   "id": "d5371eea",
   "metadata": {},
   "outputs": [],
   "source": [
    "import pubchempy as pcp\n",
    "\n",
    "def stitch_to_smiles(stitch_id):\n",
    "    # Convert Stereo STITCH ID to PubChem CID\n",
    "    cid = stitch_id.lstrip('CID0')\n",
    "    \n",
    "    if cid is None:\n",
    "        print(\"No compound found for the given STITCH ID.\")\n",
    "        return None\n",
    "    \n",
    "    # Retrieve compound information including SMILES\n",
    "    compound = pcp.Compound.from_cid(cid)\n",
    "    \n",
    "#     if 'canonical_smiles' in compound.to_dict():\n",
    "#         return compound.to_dict()['canonical_smiles']\n",
    "    if 'isomeric_smiles' in compound.to_dict():\n",
    "        return compound.to_dict()['isomeric_smiles']\n",
    "    else:\n",
    "        print(\"No SMILES found for the given compound.\")\n",
    "        return None\n",
    "\n",
    "# Run through STITCH IDs (stereos)\n",
    "smile_list = []\n",
    "for i in unique_id:\n",
    "    smiles = stitch_to_smiles(i)\n",
    "    if smiles:\n",
    "            smile_list.append(smiles)\n",
    "    else:\n",
    "        print(\"SMILES for STITCH ID {} not found.\".format(stitch_id))\n",
    "\n",
    "dict = {'STITCH': unique_id, 'SMILES': smile_list} \n",
    "    \n",
    "df = pd.DataFrame(dict)\n",
    "    \n",
    "# df.to_csv('STITCH_SMILES.tsv', sep='\\t')\n",
    "df.to_csv('STITCH_isoSMILES.tsv', sep='\\t') # We will use this as SIDER has same drug under multiple CIDs differ by stereochemistry only\n"
   ]
  },
  {
   "cell_type": "markdown",
   "id": "78fab8e6",
   "metadata": {},
   "source": [
    "Read the STITCH_SMILES data and remove salts from it:"
   ]
  },
  {
   "cell_type": "code",
   "execution_count": 113,
   "id": "80696d4f",
   "metadata": {},
   "outputs": [
    {
     "name": "stderr",
     "output_type": "stream",
     "text": [
      "[02:52:56] WARNING: not removing hydrogen atom without neighbors\n",
      "[02:52:56] WARNING: not removing hydrogen atom without neighbors\n"
     ]
    }
   ],
   "source": [
    "## -- We don't need this now --##\n",
    "\n",
    "# from rdkit.Chem.SaltRemover import SaltRemover\n",
    "# data = pd.read_csv('STITCH_SMILES.tsv', sep='\\t')\n",
    "# remover = SaltRemover(defnData=\"[Cl,Br,F,Na,Y,Gd,Li,OH,Fe,K,Mg,Cr,La,Pt,Sm,Tl,Zn,Se,Ra,Ag,As]\" ) # use default saltremover\n",
    "# salt_stripped = []\n",
    "# for idx, name  in enumerate(data['SMILES']):\n",
    "#     mol = Chem.MolFromSmiles( name )\n",
    "#     stripped = remover.StripMol( mol ) # strip salts\n",
    "#     salt_stripped.append(Chem.MolToSmiles( stripped ))\n",
    "# data['salt_stripped'] = salt_stripped\n",
    "# data\n",
    "# data.to_csv('STITCH_SMILES_woSALT.tsv', sep='\\t')"
   ]
  },
  {
   "cell_type": "markdown",
   "id": "f5743401",
   "metadata": {},
   "source": [
    "Processing smile string according to deepSide paper:"
   ]
  },
  {
   "cell_type": "code",
   "execution_count": 172,
   "id": "2cecceb7",
   "metadata": {},
   "outputs": [
    {
     "name": "stderr",
     "output_type": "stream",
     "text": [
      "[19:38:41] WARNING: not removing hydrogen atom without neighbors\n",
      "[19:38:41] WARNING: not removing hydrogen atom without neighbors\n"
     ]
    },
    {
     "name": "stdout",
     "output_type": "stream",
     "text": [
      "825 825\n"
     ]
    }
   ],
   "source": [
    "##-- Here we read all the smiles and convert it to extended smile representation--\n",
    "## using RdKit. Then we only filter those smiles with length 45-400 similar to DeepSide paper.\n",
    "\n",
    "from rdkit import Chem\n",
    "\n",
    "extended_smiles = []\n",
    "updated_stitch = []\n",
    "# data = pd.read_csv('STITCH_SMILES.tsv', sep='\\t')\n",
    "data = pd.read_csv('STITCH_isoSMILES.tsv', sep='\\t')\n",
    "for idx, name  in enumerate(data['SMILES']):\n",
    "    mol = Chem.MolFromSmiles( name )\n",
    "#     x_smiles = Chem.MolToCXSmiles( mol ) # for canonial smiles\n",
    "    x_smiles = Chem.MolToCXSmiles(mol, isomericSmiles=True) # for isomeric smiles\n",
    "    if len(x_smiles) > 45 and len(x_smiles) < 400:\n",
    "        extended_smiles.append(Chem.MolToCXSmiles( mol ))\n",
    "        updated_stitch.append(data['STITCH'][idx])\n",
    "print(len(extended_smiles), len(updated_stitch))\n",
    "dict = {'STITCH': updated_stitch, 'SMILES': extended_smiles} \n",
    "    \n",
    "df = pd.DataFrame(dict)\n",
    "    \n",
    "# df.to_csv('STITCH_extendedSMILES.tsv', sep='\\t')\n",
    "df.to_csv('STITCH_extended_isoSMILES.tsv', sep='\\t')\n",
    "    \n"
   ]
  },
  {
   "cell_type": "code",
   "execution_count": 171,
   "id": "083d0fd2",
   "metadata": {},
   "outputs": [],
   "source": [
    "# data = pd.read_csv('STITCH_SMILES.tsv', sep='\\t')\n",
    "# print(len(data['SMILES']))\n",
    "# print(len(set(data['SMILES'])))"
   ]
  },
  {
   "cell_type": "markdown",
   "id": "6af6c46c",
   "metadata": {},
   "source": [
    "Have to add the smiles in the SIDER dataset..."
   ]
  },
  {
   "cell_type": "code",
   "execution_count": 2,
   "id": "cab992ad",
   "metadata": {},
   "outputs": [
    {
     "name": "stderr",
     "output_type": "stream",
     "text": [
      "/Users/souviksinha/miniconda3/lib/python3.9/site-packages/pandas/core/frame.py:4901: SettingWithCopyWarning: \n",
      "A value is trying to be set on a copy of a slice from a DataFrame\n",
      "\n",
      "See the caveats in the documentation: https://pandas.pydata.org/pandas-docs/stable/user_guide/indexing.html#returning-a-view-versus-a-copy\n",
      "  return super().drop(\n"
     ]
    }
   ],
   "source": [
    "'''\n",
    "Search for the STITCH IDs common between filtered smiles dataset \n",
    "and processed sider dataset.\n",
    "'''\n",
    "\n",
    "# df_sider = pd.read_csv('SIDER_processed_v1.tsv', sep='\\t')\n",
    "df_sider = pd.read_csv('SIDER_processed_unique_drug_entry.tsv', sep='\\t') \n",
    "# df_smiles = pd.read_csv('STITCH_extendedSMILES.tsv', sep='\\t')\n",
    "df_smiles = pd.read_csv('STITCH_extended_isoSMILES.tsv', sep='\\t')\n",
    "\n",
    "# print(df_smiles)\n",
    "# print(df_sider)\n",
    "# filtered_df_sider = df_sider[df_sider['STITCH_STEREO'].isin(df_smiles['STITCH'])]\n",
    "filtered_df_sider = df_sider[df_sider['STITCH'].isin(df_smiles['STITCH'])]\n",
    "filtered_df_sider\n",
    "\n",
    "smiles_matching_stitch = []\n",
    "for stitch in filtered_df_sider['STITCH']:\n",
    "    result = df_smiles[df_smiles['STITCH'].str.contains(stitch)]\n",
    "    sm = str(result['SMILES']).split()[1]\n",
    "    smiles_matching_stitch.append(sm)\n",
    "# print(smiles_matching_stitch)\n",
    "\n",
    "# filtered_df_sider.drop(['STITCH_FLAT','ADR_name'], axis=1, inplace=True)\n",
    "filtered_df_sider.drop(['Unnamed: 0'], axis=1, inplace=True)\n",
    "# print(len(smiles_matching_stitch))\n",
    "filtered_df_sider.insert(1, 'SMILES', smiles_matching_stitch)\n",
    "# filtered_df_sider\n",
    "# #     print(result)\n",
    "\n",
    "# filtered_df_sider.to_csv('SIDER_withSMILES.tsv', sep='\\t')\n",
    "filtered_df_sider.to_csv('SIDER_with_isoSMILES.tsv', sep='\\t')\n"
   ]
  },
  {
   "cell_type": "code",
   "execution_count": 44,
   "id": "cff6e894",
   "metadata": {},
   "outputs": [
    {
     "data": {
      "text/plain": [
       "'\\nOne-hot-encoding example with pd\\n'"
      ]
     },
     "execution_count": 44,
     "metadata": {},
     "output_type": "execute_result"
    }
   ],
   "source": [
    "'''\n",
    "One-hot-encoding example with pd\n",
    "'''\n",
    "# import pandas as pd\n",
    "\n",
    "# # Example DataFrame with a categorical column\n",
    "# data = {'color': ['red', 'blue', 'green', 'green', 'red']}\n",
    "# df = pd.DataFrame(data)\n",
    "\n",
    "# # Perform one-hot encoding\n",
    "# one_hot_encoded = pd.get_dummies(df['color'])\n",
    "\n",
    "# # Concatenate the one-hot encoded columns with the original DataFrame\n",
    "# df_encoded = pd.concat([df, one_hot_encoded], axis=1)\n",
    "\n",
    "# print(df_encoded)\n"
   ]
  },
  {
   "cell_type": "markdown",
   "id": "d567a5d2",
   "metadata": {},
   "source": [
    "## Get fingerprints and descriptors correspond to each SMILE"
   ]
  },
  {
   "cell_type": "code",
   "execution_count": 46,
   "id": "44764675",
   "metadata": {},
   "outputs": [],
   "source": [
    "from rdkit import Chem"
   ]
  },
  {
   "cell_type": "code",
   "execution_count": 179,
   "id": "87ad95a7",
   "metadata": {},
   "outputs": [
    {
     "data": {
      "image/png": "[encoded data removed]",
      "text/plain": [
       "<PIL.PngImagePlugin.PngImageFile image mode=RGB size=300x300>"
      ]
     },
     "execution_count": 179,
     "metadata": {},
     "output_type": "execute_result"
    }
   ],
   "source": [
    "# ms = Chem.MolFromSmiles(smile_list[39])\n",
    "ms = Chem.MolFromSmiles('CNC[C@H](O)[C@@H](O)[C@H](O)[C@H](O)CO.CNC[C@H](O)[C@@H](O)[C@H](O)[C@H](O)CO.O=C([O-])CN(CCN(CC(=O)[O-])CC(=O)O)CCN(CC(=O)[O-])CC(=O)O.[Gd+3] |^1:53|')\n",
    "img = Chem.Draw.MolToImage(ms)\n",
    "# print(smile_list[39])\n",
    "img"
   ]
  },
  {
   "cell_type": "code",
   "execution_count": 66,
   "id": "c5141ecd",
   "metadata": {},
   "outputs": [],
   "source": [
    "# from rdkit.Chem import rdMolDescriptors\n",
    "# print(get_morgan(ms))\n",
    "# print(get_maccs(ms))"
   ]
  },
  {
   "cell_type": "markdown",
   "id": "c0ac903e",
   "metadata": {},
   "source": [
    "create molecular fingerprints"
   ]
  },
  {
   "cell_type": "code",
   "execution_count": 175,
   "id": "13f04c5f",
   "metadata": {},
   "outputs": [
    {
     "name": "stderr",
     "output_type": "stream",
     "text": [
      "[19:44:46] WARNING: not removing hydrogen atom without neighbors\n",
      "[19:44:46] WARNING: not removing hydrogen atom without neighbors\n"
     ]
    },
    {
     "data": {
      "text/html": [
       "<div>\n",
       "<style scoped>\n",
       "    .dataframe tbody tr th:only-of-type {\n",
       "        vertical-align: middle;\n",
       "    }\n",
       "\n",
       "    .dataframe tbody tr th {\n",
       "        vertical-align: top;\n",
       "    }\n",
       "\n",
       "    .dataframe thead th {\n",
       "        text-align: right;\n",
       "    }\n",
       "</style>\n",
       "<table border=\"1\" class=\"dataframe\">\n",
       "  <thead>\n",
       "    <tr style=\"text-align: right;\">\n",
       "      <th></th>\n",
       "      <th>mols</th>\n",
       "    </tr>\n",
       "  </thead>\n",
       "  <tbody>\n",
       "    <tr>\n",
       "      <th>0</th>\n",
       "      <td>&lt;rdkit.Chem.rdchem.Mol object at 0x7fb3912db510&gt;</td>\n",
       "    </tr>\n",
       "    <tr>\n",
       "      <th>1</th>\n",
       "      <td>&lt;rdkit.Chem.rdchem.Mol object at 0x7fb3912db5f0&gt;</td>\n",
       "    </tr>\n",
       "    <tr>\n",
       "      <th>2</th>\n",
       "      <td>&lt;rdkit.Chem.rdchem.Mol object at 0x7fb3912db580&gt;</td>\n",
       "    </tr>\n",
       "    <tr>\n",
       "      <th>3</th>\n",
       "      <td>&lt;rdkit.Chem.rdchem.Mol object at 0x7fb3912db660&gt;</td>\n",
       "    </tr>\n",
       "    <tr>\n",
       "      <th>4</th>\n",
       "      <td>&lt;rdkit.Chem.rdchem.Mol object at 0x7fb3912db6d0&gt;</td>\n",
       "    </tr>\n",
       "    <tr>\n",
       "      <th>...</th>\n",
       "      <td>...</td>\n",
       "    </tr>\n",
       "    <tr>\n",
       "      <th>820</th>\n",
       "      <td>&lt;rdkit.Chem.rdchem.Mol object at 0x7fb3912f2200&gt;</td>\n",
       "    </tr>\n",
       "    <tr>\n",
       "      <th>821</th>\n",
       "      <td>&lt;rdkit.Chem.rdchem.Mol object at 0x7fb3912f2270&gt;</td>\n",
       "    </tr>\n",
       "    <tr>\n",
       "      <th>822</th>\n",
       "      <td>&lt;rdkit.Chem.rdchem.Mol object at 0x7fb3912f22e0&gt;</td>\n",
       "    </tr>\n",
       "    <tr>\n",
       "      <th>823</th>\n",
       "      <td>&lt;rdkit.Chem.rdchem.Mol object at 0x7fb3912f2350&gt;</td>\n",
       "    </tr>\n",
       "    <tr>\n",
       "      <th>824</th>\n",
       "      <td>&lt;rdkit.Chem.rdchem.Mol object at 0x7fb3912f23c0&gt;</td>\n",
       "    </tr>\n",
       "  </tbody>\n",
       "</table>\n",
       "<p>825 rows × 1 columns</p>\n",
       "</div>"
      ],
      "text/plain": [
       "                                                 mols\n",
       "0    <rdkit.Chem.rdchem.Mol object at 0x7fb3912db510>\n",
       "1    <rdkit.Chem.rdchem.Mol object at 0x7fb3912db5f0>\n",
       "2    <rdkit.Chem.rdchem.Mol object at 0x7fb3912db580>\n",
       "3    <rdkit.Chem.rdchem.Mol object at 0x7fb3912db660>\n",
       "4    <rdkit.Chem.rdchem.Mol object at 0x7fb3912db6d0>\n",
       "..                                                ...\n",
       "820  <rdkit.Chem.rdchem.Mol object at 0x7fb3912f2200>\n",
       "821  <rdkit.Chem.rdchem.Mol object at 0x7fb3912f2270>\n",
       "822  <rdkit.Chem.rdchem.Mol object at 0x7fb3912f22e0>\n",
       "823  <rdkit.Chem.rdchem.Mol object at 0x7fb3912f2350>\n",
       "824  <rdkit.Chem.rdchem.Mol object at 0x7fb3912f23c0>\n",
       "\n",
       "[825 rows x 1 columns]"
      ]
     },
     "execution_count": 175,
     "metadata": {},
     "output_type": "execute_result"
    }
   ],
   "source": [
    "import create_fingerprints as cf\n",
    "df_smiles = pd.read_csv('STITCH_extended_isoSMILES.tsv', sep='\\t')\n",
    "df_mols = pd.DataFrame([Chem.MolFromSmiles(df_smiles['SMILES'][x]) for x in range(len(df_smiles['SMILES']))], columns=[\"mols\"])\n",
    "df_mols"
   ]
  },
  {
   "cell_type": "code",
   "execution_count": 176,
   "id": "1c81681e",
   "metadata": {},
   "outputs": [],
   "source": [
    "df_ecfp4 = cf.create_ecfp4_fingerprint(df_mols, write=True)\n",
    "df_ecfp4.insert(0,'STITCH_STEREO', data_se['STITCH_STEREO'])\n",
    "df_ecfp4.to_csv('STITCH_extISO_ECFP4.tsv', sep='\\t')"
   ]
  },
  {
   "cell_type": "code",
   "execution_count": 177,
   "id": "e05947b2",
   "metadata": {},
   "outputs": [],
   "source": [
    "df_maccs =cf.create_maccs_fingerprint(df_mols, write=True)\n",
    "df_maccs.insert(0,'STITCH_STEREO', data_se['STITCH_STEREO'])\n",
    "df_maccs.to_csv('STITCH_extISO_MACCS.tsv', sep='\\t')"
   ]
  },
  {
   "cell_type": "markdown",
   "id": "0b53a611",
   "metadata": {},
   "source": [
    "create molecular descriptors"
   ]
  },
  {
   "cell_type": "code",
   "execution_count": 178,
   "id": "cedc3940",
   "metadata": {},
   "outputs": [],
   "source": [
    "import create_descriptors as cd1\n",
    "df_des = cd1.calc_descriptors(df_mols, write=True)\n",
    "df_des.insert(0,'STITCH_STEREO', data_se['STITCH_STEREO'])\n",
    "df_des.to_csv('STITCH_extISO_Descriptor.tsv', sep='\\t')"
   ]
  },
  {
   "cell_type": "code",
   "execution_count": null,
   "id": "c438684e",
   "metadata": {},
   "outputs": [],
   "source": []
  }
 ],
 "metadata": {
  "kernelspec": {
   "display_name": "Python 3 (ipykernel)",
   "language": "python",
   "name": "python3"
  },
  "language_info": {
   "codemirror_mode": {
    "name": "ipython",
    "version": 3
   },
   "file_extension": ".py",
   "mimetype": "text/x-python",
   "name": "python",
   "nbconvert_exporter": "python",
   "pygments_lexer": "ipython3",
   "version": "3.9.5"
  }
 },
 "nbformat": 4,
 "nbformat_minor": 5
}
